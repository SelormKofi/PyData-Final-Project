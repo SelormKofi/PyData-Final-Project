{
 "cells": [
  {
   "cell_type": "code",
   "execution_count": 1,
   "id": "a0cb6fc6",
   "metadata": {},
   "outputs": [],
   "source": [
    "from urllib.request import Request,urlopen\n",
    "from bs4 import BeautifulSoup as bs\n",
    "import bs4\n",
    "import pandas as pd"
   ]
  },
  {
   "cell_type": "code",
   "execution_count": 2,
   "id": "acd09002",
   "metadata": {},
   "outputs": [],
   "source": [
    "url = 'https://www.jumia.com.gh/phones-tablets'\n",
    "request = Request(url, headers= {\"User-Agent\":\"Mozilla/5.0\"})"
   ]
  },
  {
   "cell_type": "code",
   "execution_count": 3,
   "id": "f895026d",
   "metadata": {},
   "outputs": [],
   "source": [
    "webpage = urlopen(request).read()"
   ]
  },
  {
   "cell_type": "code",
   "execution_count": 4,
   "id": "97728e56",
   "metadata": {},
   "outputs": [],
   "source": [
    "result =bs(webpage)"
   ]
  },
  {
   "cell_type": "code",
   "execution_count": 5,
   "id": "e6ce33ea",
   "metadata": {},
   "outputs": [],
   "source": [
    "products= [item.get_text() for item in result.select(\".core .name\")]\n"
   ]
  },
  {
   "cell_type": "code",
   "execution_count": 6,
   "id": "6e217176",
   "metadata": {},
   "outputs": [],
   "source": [
    "price= [cost.get_text() for cost in result.select(\".core .prc\")]\n"
   ]
  },
  {
   "cell_type": "code",
   "execution_count": 7,
   "id": "89caeeac",
   "metadata": {},
   "outputs": [],
   "source": [
    "links = [(str(url) + str(link.get(\"href\"))) for link in result.select(\".core\")]\n"
   ]
  },
  {
   "cell_type": "code",
   "execution_count": 8,
   "id": "1e97c821",
   "metadata": {},
   "outputs": [],
   "source": [
    "df= pd.DataFrame({\"Name\":products,\"Price\":price, \"Links\": links})\n"
   ]
  },
  {
   "cell_type": "code",
   "execution_count": 9,
   "id": "7c8b0525",
   "metadata": {},
   "outputs": [],
   "source": [
    "solution = df[:130]"
   ]
  },
  {
   "cell_type": "code",
   "execution_count": 10,
   "id": "3f430c22",
   "metadata": {},
   "outputs": [],
   "source": [
    "solution.to_csv(\"Jumia_Phones_and_Tablet_Prices.csv\")"
   ]
  },
  {
   "cell_type": "code",
   "execution_count": null,
   "id": "c1347cfa",
   "metadata": {},
   "outputs": [],
   "source": []
  }
 ],
 "metadata": {
  "kernelspec": {
   "display_name": "Python 3 (ipykernel)",
   "language": "python",
   "name": "python3"
  },
  "language_info": {
   "codemirror_mode": {
    "name": "ipython",
    "version": 3
   },
   "file_extension": ".py",
   "mimetype": "text/x-python",
   "name": "python",
   "nbconvert_exporter": "python",
   "pygments_lexer": "ipython3",
   "version": "3.8.5"
  }
 },
 "nbformat": 4,
 "nbformat_minor": 5
}
