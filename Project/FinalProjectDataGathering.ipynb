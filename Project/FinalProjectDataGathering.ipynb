{
 "cells": [
  {
   "cell_type": "code",
   "execution_count": 1,
   "id": "57f44e4b",
   "metadata": {},
   "outputs": [],
   "source": [
    "import requests as rq\n",
    "from bs4 import BeautifulSoup as bs\n",
    "import pandas as pd"
   ]
  },
  {
   "cell_type": "code",
   "execution_count": 2,
   "id": "ba207e18",
   "metadata": {},
   "outputs": [],
   "source": [
    "url = \"https://www.yarnplaza.com/yarn/\"\n",
    "brands = [\"dmc\", \"drops\", \"stylecraft\"]"
   ]
  },
  {
   "cell_type": "code",
   "execution_count": 3,
   "id": "b27af02d",
   "metadata": {},
   "outputs": [
    {
     "data": {
      "text/plain": [
       "['https://www.yarnplaza.com/yarn/dmc',\n",
       " 'https://www.yarnplaza.com/yarn/drops',\n",
       " 'https://www.yarnplaza.com/yarn/stylecraft']"
      ]
     },
     "execution_count": 3,
     "metadata": {},
     "output_type": "execute_result"
    }
   ],
   "source": [
    "brand_links = []\n",
    "for brand in brands:\n",
    "    brand_links.append(url + brand)\n",
    "brand_links"
   ]
  },
  {
   "cell_type": "code",
   "execution_count": 4,
   "id": "32a49ba6",
   "metadata": {},
   "outputs": [],
   "source": [
    "dmc_link = brand_links[0]"
   ]
  },
  {
   "cell_type": "code",
   "execution_count": 5,
   "id": "73df9464",
   "metadata": {},
   "outputs": [],
   "source": [
    "def get_data(link):\n",
    "  page = rq.get(link)\n",
    "  page_content = page.text\n",
    "  soup = bs(page_content, features=\"html.parser\")\n",
    "  return soup"
   ]
  },
  {
   "cell_type": "code",
   "execution_count": 6,
   "id": "375a7326",
   "metadata": {},
   "outputs": [],
   "source": [
    "dmc = get_data(dmc_link)"
   ]
  },
  {
   "cell_type": "code",
   "execution_count": 7,
   "id": "b46c8506",
   "metadata": {},
   "outputs": [],
   "source": [
    "dmc_products = dmc.find_all(\"h3\", class_ = \"productlist-title gtm-product-impression\")\n",
    "dmc_prices = dmc.find_all(\"span\", class_ = \"product-price-amount\")"
   ]
  },
  {
   "cell_type": "code",
   "execution_count": 8,
   "id": "1f2f07fd",
   "metadata": {},
   "outputs": [],
   "source": [
    "dmc_brand_type = [item.text.strip() for item in dmc_products]\n",
    "dmc_brand_prices = [item.text.strip() for item in dmc_prices]\n"
   ]
  },
  {
   "cell_type": "code",
   "execution_count": 9,
   "id": "6c784879",
   "metadata": {},
   "outputs": [
    {
     "data": {
      "text/plain": [
       "'DMC Natura XL'"
      ]
     },
     "execution_count": 9,
     "metadata": {},
     "output_type": "execute_result"
    }
   ],
   "source": [
    "dmc_brand_natura =dmc_brand_type[-1]\n",
    "dmc_brand_natura"
   ]
  },
  {
   "cell_type": "code",
   "execution_count": 10,
   "id": "03e7141a",
   "metadata": {},
   "outputs": [
    {
     "data": {
      "text/plain": [
       "'8,53'"
      ]
     },
     "execution_count": 10,
     "metadata": {},
     "output_type": "execute_result"
    }
   ],
   "source": [
    "dmc_price_natura = dmc_brand_prices[-1]\n",
    "dmc_price_natura"
   ]
  },
  {
   "cell_type": "code",
   "execution_count": 11,
   "id": "ff41240a",
   "metadata": {},
   "outputs": [],
   "source": [
    "# links\n",
    "def get_all_links(product):\n",
    "  links=[]\n",
    "  for link in product:\n",
    "    a = link.find('a')['href']\n",
    "    links.append(a)\n",
    "  return links\n"
   ]
  },
  {
   "cell_type": "code",
   "execution_count": 12,
   "id": "4c4f5ba5",
   "metadata": {},
   "outputs": [
    {
     "data": {
      "text/plain": [
       "['https://www.yarnplaza.com/yarn/dmc/dmc-pirouette',\n",
       " 'https://www.yarnplaza.com/yarn/dmc/dmc-brio',\n",
       " 'https://www.yarnplaza.com/yarn/dmc/dmc-517-mouline-coloris-embroidery-thread-8m',\n",
       " 'https://www.yarnplaza.com/yarn/dmc/dmc-1008f-mouline-satin-embroidery-thread-8m',\n",
       " 'https://www.yarnplaza.com/yarn/dmc/dmc-317w-mouline-metallise-embroidery-thread-8m',\n",
       " 'https://www.yarnplaza.com/yarn/dmc/dmc-417f-mouline-variation-stickgarn-8m',\n",
       " 'https://www.yarnplaza.com/yarn/dmc/dmc-117mc-mouline-special-embroidery-thread-8m',\n",
       " 'https://www.yarnplaza.com/yarn/dmc/dmc-cotton-natura',\n",
       " 'https://www.yarnplaza.com/yarn/dmc/dmc-natura-linen',\n",
       " 'https://www.yarnplaza.com/yarn/dmc/dmc-natura-medium',\n",
       " 'https://www.yarnplaza.com/product/4216/dmc-natura-xl.html']"
      ]
     },
     "execution_count": 12,
     "metadata": {},
     "output_type": "execute_result"
    }
   ],
   "source": [
    "# returns the urls of all dmc products\n",
    "dmc_links = get_all_links(dmc_products)\n",
    "dmc_links"
   ]
  },
  {
   "cell_type": "code",
   "execution_count": 13,
   "id": "8593c840",
   "metadata": {},
   "outputs": [
    {
     "data": {
      "text/plain": [
       "'https://www.yarnplaza.com/product/4216/dmc-natura-xl.html'"
      ]
     },
     "execution_count": 13,
     "metadata": {},
     "output_type": "execute_result"
    }
   ],
   "source": [
    "dmc_natura_link = dmc_links[-1]\n",
    "dmc_natura_link"
   ]
  },
  {
   "cell_type": "code",
   "execution_count": 14,
   "id": "bf7647d7",
   "metadata": {},
   "outputs": [],
   "source": [
    "natura = get_data(dmc_natura_link)"
   ]
  },
  {
   "cell_type": "code",
   "execution_count": 15,
   "id": "c0a4d79a",
   "metadata": {},
   "outputs": [],
   "source": [
    "def get_table(contents):\n",
    "  info = {}\n",
    "  trs = contents.find_all('tr')\n",
    "  for tr in trs:\n",
    "    tds = tr.find_all(\"td\")\n",
    "    if len(tds) == 2:\n",
    "      info[tds[0].text]= tds[1].text\n",
    "  return info"
   ]
  },
  {
   "cell_type": "code",
   "execution_count": 16,
   "id": "4c29b4b7",
   "metadata": {},
   "outputs": [
    {
     "data": {
      "text/plain": [
       "{'Reviews\\r\\n                                    ': '\\n\\nWrite a review\\r\\n\\n',\n",
       " 'Weight': '100 gram',\n",
       " 'Sustainable': 'Fairtrade',\n",
       " 'Length': '75 meter',\n",
       " 'Composition': '100% Cotton',\n",
       " 'Needle size': '8 mm',\n",
       " 'Yarn Weight': 'Bulky',\n",
       " 'Tension square 10x10cm (S)': '12 stitches',\n",
       " 'Tension square 10x10cm (R)': '17 rows',\n",
       " 'Sweater size': '40',\n",
       " 'Balls per sweater': '7',\n",
       " 'Washing': 'Machine washable 30 ºC',\n",
       " 'Bleaching': 'No',\n",
       " 'Tumble dryer': 'Do not tumble dry',\n",
       " 'Dry flat': 'Yes',\n",
       " 'Ironing': 'Do not iron',\n",
       " 'Dry cleaning': 'Yes',\n",
       " 'Brand': 'DMC',\n",
       " 'Category': 'DMC',\n",
       " 'EAN Code': '0077540622641',\n",
       " 'Product code': 'bwdmc011322_2',\n",
       " 'Unit': 'Per piece'}"
      ]
     },
     "execution_count": 16,
     "metadata": {},
     "output_type": "execute_result"
    }
   ],
   "source": [
    "natura_table = get_table(natura)\n",
    "natura_table"
   ]
  },
  {
   "cell_type": "code",
   "execution_count": 17,
   "id": "6a2dee28",
   "metadata": {},
   "outputs": [
    {
     "data": {
      "text/plain": [
       "'100% Cotton'"
      ]
     },
     "execution_count": 17,
     "metadata": {},
     "output_type": "execute_result"
    }
   ],
   "source": [
    "natura_composition = natura_table[\"Composition\"]\n",
    "natura_composition"
   ]
  },
  {
   "cell_type": "code",
   "execution_count": 18,
   "id": "1eddb7d1",
   "metadata": {},
   "outputs": [
    {
     "data": {
      "text/plain": [
       "'8 mm'"
      ]
     },
     "execution_count": 18,
     "metadata": {},
     "output_type": "execute_result"
    }
   ],
   "source": [
    "natura_needle_size = natura_table[\"Needle size\"]\n",
    "natura_needle_size"
   ]
  },
  {
   "cell_type": "code",
   "execution_count": 19,
   "id": "206d62c9",
   "metadata": {},
   "outputs": [
    {
     "data": {
      "text/plain": [
       "'DMC'"
      ]
     },
     "execution_count": 19,
     "metadata": {},
     "output_type": "execute_result"
    }
   ],
   "source": [
    "natura_brand = natura_table[\"Brand\"]\n",
    "natura_brand"
   ]
  },
  {
   "cell_type": "code",
   "execution_count": 20,
   "id": "ba7e3b8c",
   "metadata": {},
   "outputs": [],
   "source": [
    "drops_link = \"https://www.yarnplaza.com/yarn/drops?page=3\"\n",
    "drops=get_data(drops_link)\n"
   ]
  },
  {
   "cell_type": "code",
   "execution_count": 21,
   "id": "db678282",
   "metadata": {},
   "outputs": [],
   "source": [
    "drop_products = drops.find_all(\"h3\", class_ =\"productlist-title gtm-product-impression\")\n",
    "drop_prices = drops.find_all(\"span\", class_ =\"product-price-amount\")\n"
   ]
  },
  {
   "cell_type": "code",
   "execution_count": 22,
   "id": "69b988a4",
   "metadata": {},
   "outputs": [],
   "source": [
    "drop_brand_type = [item.text.strip() for item in drop_products]\n",
    "drop_brand_prices = [item.text.strip() for item in drop_prices]\n"
   ]
  },
  {
   "cell_type": "code",
   "execution_count": 23,
   "id": "8a281a95",
   "metadata": {},
   "outputs": [
    {
     "data": {
      "text/plain": [
       "['Drops Paris',\n",
       " 'Drops Paris Recycled Denim',\n",
       " 'Drops Polaris Mix',\n",
       " 'Drops Polaris Uni Colour',\n",
       " 'Drops Puna Natural',\n",
       " 'Drops Puna Natural Mix',\n",
       " 'Drops Puna Uni Colour',\n",
       " 'Drops Safran',\n",
       " 'Drops Sky Mix',\n",
       " 'Drops Sky Uni Colour',\n",
       " 'Drops Snow (Eskimo) Mix',\n",
       " 'Drops Snow (Eskimo) Print',\n",
       " 'Drops Snow (Eskimo) Uni Colour']"
      ]
     },
     "execution_count": 23,
     "metadata": {},
     "output_type": "execute_result"
    }
   ],
   "source": [
    "drop_brand_type"
   ]
  },
  {
   "cell_type": "code",
   "execution_count": 24,
   "id": "aaaa76c6",
   "metadata": {},
   "outputs": [
    {
     "data": {
      "text/plain": [
       "'Drops Safran'"
      ]
     },
     "execution_count": 24,
     "metadata": {},
     "output_type": "execute_result"
    }
   ],
   "source": [
    "drop_brand = drop_brand_type[7]\n",
    "drop_brand"
   ]
  },
  {
   "cell_type": "code",
   "execution_count": 25,
   "id": "2f673a3d",
   "metadata": {},
   "outputs": [
    {
     "data": {
      "text/plain": [
       "['1,04',\n",
       " '0,87',\n",
       " '4,56',\n",
       " '3,92',\n",
       " '2,28',\n",
       " '2,28',\n",
       " '2,63',\n",
       " '1,03',\n",
       " '4,26',\n",
       " '4,26',\n",
       " '1,83',\n",
       " '1,98',\n",
       " '1,59']"
      ]
     },
     "execution_count": 25,
     "metadata": {},
     "output_type": "execute_result"
    }
   ],
   "source": [
    "drop_brand_prices"
   ]
  },
  {
   "cell_type": "code",
   "execution_count": 26,
   "id": "722301cf",
   "metadata": {},
   "outputs": [
    {
     "data": {
      "text/plain": [
       "'1,03'"
      ]
     },
     "execution_count": 26,
     "metadata": {},
     "output_type": "execute_result"
    }
   ],
   "source": [
    "drop_price_safran=drop_brand_prices[7]\n",
    "drop_price_safran"
   ]
  },
  {
   "cell_type": "code",
   "execution_count": 27,
   "id": "97bc9bce",
   "metadata": {},
   "outputs": [],
   "source": [
    "drop_links = get_all_links(drop_products)"
   ]
  },
  {
   "cell_type": "code",
   "execution_count": 28,
   "id": "4debab4a",
   "metadata": {},
   "outputs": [
    {
     "data": {
      "text/plain": [
       "'https://www.yarnplaza.com/yarn/drops/drops-safran'"
      ]
     },
     "execution_count": 28,
     "metadata": {},
     "output_type": "execute_result"
    }
   ],
   "source": [
    "drop_safran_link = drop_links[7]\n",
    "drop_safran_link"
   ]
  },
  {
   "cell_type": "code",
   "execution_count": 29,
   "id": "0030cdd3",
   "metadata": {},
   "outputs": [],
   "source": [
    "safran=get_data(drop_safran_link)"
   ]
  },
  {
   "cell_type": "code",
   "execution_count": 30,
   "id": "98d7490b",
   "metadata": {},
   "outputs": [
    {
     "data": {
      "text/plain": [
       "{'Reviews\\r\\n                                    ': '\\n\\nWrite a review\\r\\n\\n',\n",
       " 'Weight': '50 gram',\n",
       " 'Sustainable': 'CertificationNatural',\n",
       " 'Length': '160 meter',\n",
       " 'Composition': '100% Cotton',\n",
       " 'Needle size': '3 mm',\n",
       " 'Yarn Weight': 'Sport',\n",
       " 'Tension square 10x10cm (S)': '24 stitches',\n",
       " 'Tension square 10x10cm (R)': '32 rows',\n",
       " 'Washing': 'Machine washable 40 ºC',\n",
       " 'Bleaching': 'No',\n",
       " 'Tumble dryer': 'Do not tumble dry',\n",
       " 'Dry flat': 'Yes',\n",
       " 'Ironing': 'Iron at medium temperature',\n",
       " 'Dry cleaning': 'Yes',\n",
       " 'Brand': 'Drops',\n",
       " 'Category': 'Drops',\n",
       " 'EAN Code': '7071723000007',\n",
       " 'Product code': 'bwdr1042_1',\n",
       " 'Unit': 'Per piece'}"
      ]
     },
     "execution_count": 30,
     "metadata": {},
     "output_type": "execute_result"
    }
   ],
   "source": [
    "safran_table=get_table(safran)\n",
    "safran_table"
   ]
  },
  {
   "cell_type": "code",
   "execution_count": 31,
   "id": "f0bbfb5d",
   "metadata": {},
   "outputs": [
    {
     "data": {
      "text/plain": [
       "'Drops'"
      ]
     },
     "execution_count": 31,
     "metadata": {},
     "output_type": "execute_result"
    }
   ],
   "source": [
    "safran_brand = safran_table[\"Brand\"]\n",
    "safran_brand"
   ]
  },
  {
   "cell_type": "code",
   "execution_count": 32,
   "id": "4ae1d481",
   "metadata": {},
   "outputs": [
    {
     "data": {
      "text/plain": [
       "'100% Cotton'"
      ]
     },
     "execution_count": 32,
     "metadata": {},
     "output_type": "execute_result"
    }
   ],
   "source": [
    "safran_composition = safran_table[\"Composition\"]\n",
    "safran_composition"
   ]
  },
  {
   "cell_type": "code",
   "execution_count": 33,
   "id": "1e457c84",
   "metadata": {},
   "outputs": [
    {
     "data": {
      "text/plain": [
       "'3 mm'"
      ]
     },
     "execution_count": 33,
     "metadata": {},
     "output_type": "execute_result"
    }
   ],
   "source": [
    "safran_needle_size = safran_table[\"Needle size\"]\n",
    "safran_needle_size"
   ]
  },
  {
   "cell_type": "code",
   "execution_count": 34,
   "id": "50186eb5",
   "metadata": {},
   "outputs": [],
   "source": [
    "stylecraft_link=\"https://www.yarnplaza.com/yarn/stylecraft?page=2\""
   ]
  },
  {
   "cell_type": "code",
   "execution_count": 35,
   "id": "5ccd4b96",
   "metadata": {},
   "outputs": [],
   "source": [
    "stylecraft=get_data(stylecraft_link)\n"
   ]
  },
  {
   "cell_type": "code",
   "execution_count": 36,
   "id": "c11ff36c",
   "metadata": {},
   "outputs": [],
   "source": [
    "stylecraft_products = stylecraft.find_all(\"h3\", class_ =\"productlist-title gtm-product-impression\")\n",
    "stylecraft_prices = stylecraft.find_all(\"span\", class_ =\"product-price-amount\")\n"
   ]
  },
  {
   "cell_type": "code",
   "execution_count": 37,
   "id": "fb080646",
   "metadata": {},
   "outputs": [],
   "source": [
    "stylecraft_brand_type = [item.text.strip() for item in stylecraft_products]\n",
    "stylecraft_brand_prices = [item.text.strip() for item in stylecraft_prices]\n"
   ]
  },
  {
   "cell_type": "code",
   "execution_count": 38,
   "id": "98b33217",
   "metadata": {},
   "outputs": [
    {
     "data": {
      "text/plain": [
       "['Stylecraft Highland Heathers DK',\n",
       " 'Stylecraft Cabaret DK',\n",
       " 'Stylecraft Bambino DK',\n",
       " 'Stylecraft Batik DK',\n",
       " 'Stylecraft Bellissima DK',\n",
       " 'Stylecraft Colour Pool',\n",
       " 'Stylecraft Jeanie',\n",
       " 'Stylecraft Life DK',\n",
       " 'Stylecraft Special DK',\n",
       " 'Stylecraft Special dk Shade Card',\n",
       " 'Stylecraft Special XL Super Chunky']"
      ]
     },
     "execution_count": 38,
     "metadata": {},
     "output_type": "execute_result"
    }
   ],
   "source": [
    "stylecraft_brand_type"
   ]
  },
  {
   "cell_type": "code",
   "execution_count": 39,
   "id": "a40698b4",
   "metadata": {},
   "outputs": [
    {
     "data": {
      "text/plain": [
       "['3,72',\n",
       " '6,45',\n",
       " '3,82',\n",
       " '2,93',\n",
       " '3,77',\n",
       " '7,44',\n",
       " '5,95',\n",
       " '6,00',\n",
       " '4,20',\n",
       " '4,46',\n",
       " '2,93',\n",
       " '2,48',\n",
       " '4,91',\n",
       " '6,89']"
      ]
     },
     "execution_count": 39,
     "metadata": {},
     "output_type": "execute_result"
    }
   ],
   "source": [
    "stylecraft_brand_prices"
   ]
  },
  {
   "cell_type": "code",
   "execution_count": 40,
   "id": "4781378f",
   "metadata": {},
   "outputs": [
    {
     "data": {
      "text/plain": [
       "'Stylecraft Special DK'"
      ]
     },
     "execution_count": 40,
     "metadata": {},
     "output_type": "execute_result"
    }
   ],
   "source": [
    "stylecraft_brand_ssd = stylecraft_brand_type[-3]\n",
    "stylecraft_brand_ssd"
   ]
  },
  {
   "cell_type": "code",
   "execution_count": 41,
   "id": "c3a92ec6",
   "metadata": {},
   "outputs": [
    {
     "data": {
      "text/plain": [
       "'2,48'"
      ]
     },
     "execution_count": 41,
     "metadata": {},
     "output_type": "execute_result"
    }
   ],
   "source": [
    "stylecraft_price_ssd = stylecraft_brand_prices[-3]\n",
    "stylecraft_price_ssd"
   ]
  },
  {
   "cell_type": "code",
   "execution_count": 42,
   "id": "c4161a48",
   "metadata": {},
   "outputs": [
    {
     "data": {
      "text/plain": [
       "['https://www.yarnplaza.com/yarn/stylecraft/stylecraft-highland-heathers-dk',\n",
       " 'https://www.yarnplaza.com/yarn/stylecraft/stylecraft-cabaret-dk',\n",
       " 'https://www.yarnplaza.com/yarn/stylecraft/stylecraft-bambino-dk',\n",
       " 'https://www.yarnplaza.com/yarn/stylecraft/stylecraft-batik-dk',\n",
       " 'https://www.yarnplaza.com/yarn/stylecraft/stylecraft-bellissima-dk',\n",
       " 'https://www.yarnplaza.com/yarn/stylecraft/stylecraft-colour-pool',\n",
       " 'https://www.yarnplaza.com/yarn/stylecraft/stylecraft-jeanie',\n",
       " 'https://www.yarnplaza.com/yarn/stylecraft/stylecraft-life-dk',\n",
       " 'https://www.yarnplaza.com/yarn/stylecraft/stylecraft-special-dk',\n",
       " 'https://www.yarnplaza.com/yarn/stylecraft/stylecraft-special-dk-shade-card',\n",
       " 'https://www.yarnplaza.com/yarn/synthetic-yarn/stylecraft-special-xl']"
      ]
     },
     "execution_count": 42,
     "metadata": {},
     "output_type": "execute_result"
    }
   ],
   "source": [
    "stylecraft_links = get_all_links(stylecraft_products)\n",
    "stylecraft_links"
   ]
  },
  {
   "cell_type": "code",
   "execution_count": 43,
   "id": "42433bce",
   "metadata": {},
   "outputs": [
    {
     "data": {
      "text/plain": [
       "'https://www.yarnplaza.com/yarn/stylecraft/stylecraft-special-dk'"
      ]
     },
     "execution_count": 43,
     "metadata": {},
     "output_type": "execute_result"
    }
   ],
   "source": [
    "stylecraft_link_ssd = stylecraft_links[-3]\n",
    "stylecraft_link_ssd"
   ]
  },
  {
   "cell_type": "code",
   "execution_count": 44,
   "id": "78cbb759",
   "metadata": {},
   "outputs": [],
   "source": [
    "ssd=get_data(stylecraft_link_ssd)"
   ]
  },
  {
   "cell_type": "code",
   "execution_count": 45,
   "id": "86e8037e",
   "metadata": {},
   "outputs": [
    {
     "data": {
      "text/plain": [
       "{'Reviews\\r\\n                                    ': '\\n\\nWrite a review\\r\\n\\n',\n",
       " '\\n\\n': '\\nDiscover the latest colors now!\\n\\n1805 Warm Grey\\n1806 Gingerbread\\n1807 Hint of Silver',\n",
       " 'Weight': '100 gram',\n",
       " 'Length': '295 meter',\n",
       " 'Composition': '100% Acrylic',\n",
       " 'Needle size': '4 mm',\n",
       " 'Yarn Weight': 'DK',\n",
       " 'Tension square 10x10cm (S)': '22 stitches',\n",
       " 'Tension square 10x10cm (R)': '30 rows',\n",
       " 'Sweater size': '40',\n",
       " 'Balls per sweater': '6',\n",
       " 'Washing': 'Machine washable 40 ºC',\n",
       " 'Bleaching': 'No',\n",
       " 'Tumble dryer': 'Tumble dry at low temperature',\n",
       " 'Dry flat': 'Yes',\n",
       " 'Ironing': 'Iron at low temperature',\n",
       " 'Dry cleaning': 'Yes',\n",
       " 'Brand': 'Stylecraft',\n",
       " 'Category': 'Stylecraft',\n",
       " 'EAN Code': '5034533027017',\n",
       " 'Product code': 'bwstspecialdk_1',\n",
       " 'Unit': 'Per piece'}"
      ]
     },
     "execution_count": 45,
     "metadata": {},
     "output_type": "execute_result"
    }
   ],
   "source": [
    "ssd_table = get_table(ssd)\n",
    "ssd_table"
   ]
  },
  {
   "cell_type": "code",
   "execution_count": 46,
   "id": "e7ef48f8",
   "metadata": {},
   "outputs": [
    {
     "data": {
      "text/plain": [
       "'100% Acrylic'"
      ]
     },
     "execution_count": 46,
     "metadata": {},
     "output_type": "execute_result"
    }
   ],
   "source": [
    "ssd_composition = ssd_table[\"Composition\"]\n",
    "ssd_composition"
   ]
  },
  {
   "cell_type": "code",
   "execution_count": 47,
   "id": "02349bfb",
   "metadata": {},
   "outputs": [
    {
     "data": {
      "text/plain": [
       "'4 mm'"
      ]
     },
     "execution_count": 47,
     "metadata": {},
     "output_type": "execute_result"
    }
   ],
   "source": [
    "ssd_needle_size = ssd_table[\"Needle size\"]\n",
    "ssd_needle_size"
   ]
  },
  {
   "cell_type": "code",
   "execution_count": 48,
   "id": "987f0a0f",
   "metadata": {},
   "outputs": [
    {
     "data": {
      "text/plain": [
       "'Stylecraft'"
      ]
     },
     "execution_count": 48,
     "metadata": {},
     "output_type": "execute_result"
    }
   ],
   "source": [
    "ssd_brand = ssd_table[\"Brand\"]\n",
    "ssd_brand"
   ]
  },
  {
   "cell_type": "code",
   "execution_count": 49,
   "id": "62640591",
   "metadata": {},
   "outputs": [],
   "source": [
    "dict_values = {\n",
    "  \"Name\":[dmc_brand_natura,drop_brand ,stylecraft_brand_ssd],\n",
    "    \n",
    "   \"Brand\": [natura_brand,safran_brand,ssd_brand], \n",
    "    \n",
    "  \"Price(€)\": [dmc_price_natura, drop_price_safran, stylecraft_price_ssd],\n",
    "    \n",
    "\"Composition\":[natura_composition, safran_composition, ssd_composition],\n",
    "               \n",
    "\"Neddle size\":[natura_needle_size, safran_needle_size, ssd_needle_size]\n",
    "}"
   ]
  },
  {
   "cell_type": "code",
   "execution_count": 50,
   "id": "50614cd3",
   "metadata": {},
   "outputs": [
    {
     "data": {
      "text/html": [
       "<div>\n",
       "<style scoped>\n",
       "    .dataframe tbody tr th:only-of-type {\n",
       "        vertical-align: middle;\n",
       "    }\n",
       "\n",
       "    .dataframe tbody tr th {\n",
       "        vertical-align: top;\n",
       "    }\n",
       "\n",
       "    .dataframe thead th {\n",
       "        text-align: right;\n",
       "    }\n",
       "</style>\n",
       "<table border=\"1\" class=\"dataframe\">\n",
       "  <thead>\n",
       "    <tr style=\"text-align: right;\">\n",
       "      <th></th>\n",
       "      <th>Name</th>\n",
       "      <th>Brand</th>\n",
       "      <th>Price(€)</th>\n",
       "      <th>Composition</th>\n",
       "      <th>Neddle size</th>\n",
       "    </tr>\n",
       "  </thead>\n",
       "  <tbody>\n",
       "    <tr>\n",
       "      <th>0</th>\n",
       "      <td>DMC Natura XL</td>\n",
       "      <td>DMC</td>\n",
       "      <td>8,53</td>\n",
       "      <td>100% Cotton</td>\n",
       "      <td>8 mm</td>\n",
       "    </tr>\n",
       "    <tr>\n",
       "      <th>1</th>\n",
       "      <td>Drops Safran</td>\n",
       "      <td>Drops</td>\n",
       "      <td>1,03</td>\n",
       "      <td>100% Cotton</td>\n",
       "      <td>3 mm</td>\n",
       "    </tr>\n",
       "    <tr>\n",
       "      <th>2</th>\n",
       "      <td>Stylecraft Special DK</td>\n",
       "      <td>Stylecraft</td>\n",
       "      <td>2,48</td>\n",
       "      <td>100% Acrylic</td>\n",
       "      <td>4 mm</td>\n",
       "    </tr>\n",
       "  </tbody>\n",
       "</table>\n",
       "</div>"
      ],
      "text/plain": [
       "                    Name       Brand Price(€)   Composition Neddle size\n",
       "0          DMC Natura XL         DMC     8,53   100% Cotton        8 mm\n",
       "1           Drops Safran       Drops     1,03   100% Cotton        3 mm\n",
       "2  Stylecraft Special DK  Stylecraft     2,48  100% Acrylic        4 mm"
      ]
     },
     "execution_count": 50,
     "metadata": {},
     "output_type": "execute_result"
    }
   ],
   "source": [
    "data = pd.DataFrame(dict_values)\n",
    "data"
   ]
  },
  {
   "cell_type": "code",
   "execution_count": 51,
   "id": "be74f334",
   "metadata": {},
   "outputs": [],
   "source": [
    "data[\"Price(€)\"]=data[\"Price(€)\"].str.replace(',','.')\n"
   ]
  },
  {
   "cell_type": "code",
   "execution_count": 52,
   "id": "2d07d690",
   "metadata": {},
   "outputs": [],
   "source": [
    "data[\"Price(€)\"] = data[\"Price(€)\"].astype(float)"
   ]
  },
  {
   "cell_type": "code",
   "execution_count": 53,
   "id": "16883a18",
   "metadata": {},
   "outputs": [
    {
     "name": "stdout",
     "output_type": "stream",
     "text": [
      "<class 'pandas.core.frame.DataFrame'>\n",
      "RangeIndex: 3 entries, 0 to 2\n",
      "Data columns (total 5 columns):\n",
      " #   Column       Non-Null Count  Dtype  \n",
      "---  ------       --------------  -----  \n",
      " 0   Name         3 non-null      object \n",
      " 1   Brand        3 non-null      object \n",
      " 2   Price(€)     3 non-null      float64\n",
      " 3   Composition  3 non-null      object \n",
      " 4   Neddle size  3 non-null      object \n",
      "dtypes: float64(1), object(4)\n",
      "memory usage: 248.0+ bytes\n"
     ]
    }
   ],
   "source": [
    "data.info()"
   ]
  },
  {
   "cell_type": "code",
   "execution_count": 54,
   "id": "b58510f0",
   "metadata": {},
   "outputs": [],
   "source": [
    "data[\"Price(€)\"] = data[\"Price(€)\"].round(decimals=0)"
   ]
  },
  {
   "cell_type": "code",
   "execution_count": 55,
   "id": "6c36f38a",
   "metadata": {},
   "outputs": [
    {
     "data": {
      "text/html": [
       "<div>\n",
       "<style scoped>\n",
       "    .dataframe tbody tr th:only-of-type {\n",
       "        vertical-align: middle;\n",
       "    }\n",
       "\n",
       "    .dataframe tbody tr th {\n",
       "        vertical-align: top;\n",
       "    }\n",
       "\n",
       "    .dataframe thead th {\n",
       "        text-align: right;\n",
       "    }\n",
       "</style>\n",
       "<table border=\"1\" class=\"dataframe\">\n",
       "  <thead>\n",
       "    <tr style=\"text-align: right;\">\n",
       "      <th></th>\n",
       "      <th>Name</th>\n",
       "      <th>Brand</th>\n",
       "      <th>Price(€)</th>\n",
       "      <th>Composition</th>\n",
       "      <th>Neddle size</th>\n",
       "    </tr>\n",
       "  </thead>\n",
       "  <tbody>\n",
       "    <tr>\n",
       "      <th>0</th>\n",
       "      <td>DMC Natura XL</td>\n",
       "      <td>DMC</td>\n",
       "      <td>9.0</td>\n",
       "      <td>100% Cotton</td>\n",
       "      <td>8 mm</td>\n",
       "    </tr>\n",
       "    <tr>\n",
       "      <th>1</th>\n",
       "      <td>Drops Safran</td>\n",
       "      <td>Drops</td>\n",
       "      <td>1.0</td>\n",
       "      <td>100% Cotton</td>\n",
       "      <td>3 mm</td>\n",
       "    </tr>\n",
       "    <tr>\n",
       "      <th>2</th>\n",
       "      <td>Stylecraft Special DK</td>\n",
       "      <td>Stylecraft</td>\n",
       "      <td>2.0</td>\n",
       "      <td>100% Acrylic</td>\n",
       "      <td>4 mm</td>\n",
       "    </tr>\n",
       "  </tbody>\n",
       "</table>\n",
       "</div>"
      ],
      "text/plain": [
       "                    Name       Brand  Price(€)   Composition Neddle size\n",
       "0          DMC Natura XL         DMC       9.0   100% Cotton        8 mm\n",
       "1           Drops Safran       Drops       1.0   100% Cotton        3 mm\n",
       "2  Stylecraft Special DK  Stylecraft       2.0  100% Acrylic        4 mm"
      ]
     },
     "execution_count": 55,
     "metadata": {},
     "output_type": "execute_result"
    }
   ],
   "source": [
    "data"
   ]
  },
  {
   "cell_type": "code",
   "execution_count": 56,
   "id": "3dee229a",
   "metadata": {},
   "outputs": [],
   "source": [
    "data.to_csv(\"data.csv\")"
   ]
  },
  {
   "cell_type": "code",
   "execution_count": null,
   "id": "10dd1e47",
   "metadata": {},
   "outputs": [],
   "source": []
  }
 ],
 "metadata": {
  "kernelspec": {
   "display_name": "Python 3 (ipykernel)",
   "language": "python",
   "name": "python3"
  },
  "language_info": {
   "codemirror_mode": {
    "name": "ipython",
    "version": 3
   },
   "file_extension": ".py",
   "mimetype": "text/x-python",
   "name": "python",
   "nbconvert_exporter": "python",
   "pygments_lexer": "ipython3",
   "version": "3.8.5"
  }
 },
 "nbformat": 4,
 "nbformat_minor": 5
}
